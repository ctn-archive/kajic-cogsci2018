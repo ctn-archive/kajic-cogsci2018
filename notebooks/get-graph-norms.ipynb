{
 "cells": [
  {
   "cell_type": "markdown",
   "metadata": {},
   "source": [
    "# Load USF Norms"
   ]
  },
  {
   "cell_type": "markdown",
   "metadata": {},
   "source": [
    "This notebook is imported and run in all other notebooks that need the USF data (e.g., `get-graph-word2vec` and `get-graph-glove`."
   ]
  },
  {
   "cell_type": "code",
   "execution_count": 1,
   "metadata": {},
   "outputs": [],
   "source": [
    "import os\n",
    "import pickle\n",
    "\n",
    "from semnet_compare.load_norms import load_free_association_data"
   ]
  },
  {
   "cell_type": "code",
   "execution_count": 2,
   "metadata": {},
   "outputs": [],
   "source": [
    "fan_vocab, fan_db = load_free_association_data()\n",
    "fan_vocab = [word.lower() for word in fan_vocab]"
   ]
  },
  {
   "cell_type": "code",
   "execution_count": 3,
   "metadata": {},
   "outputs": [],
   "source": [
    "del load_free_association_data, os"
   ]
  },
  {
   "cell_type": "markdown",
   "metadata": {},
   "source": [
    "Number of association pairs (should be 63619):"
   ]
  },
  {
   "cell_type": "code",
   "execution_count": 4,
   "metadata": {},
   "outputs": [
    {
     "data": {
      "text/plain": [
       "63619"
      ]
     },
     "execution_count": 4,
     "metadata": {},
     "output_type": "execute_result"
    }
   ],
   "source": [
    "len(fan_db)"
   ]
  },
  {
   "cell_type": "code",
   "execution_count": 5,
   "metadata": {},
   "outputs": [],
   "source": [
    "fan_edges, fan_edges_w = [], []\n",
    "\n",
    "for a, b, s in fan_db:\n",
    "    fan_edges_w.append((a.lower(), b.lower(), s))\n",
    "    fan_edges.append((a.lower(), b.lower()))\n",
    "    \n",
    "del a,b,s"
   ]
  },
  {
   "cell_type": "markdown",
   "metadata": {},
   "source": [
    "Cache edges so they can be accessed more quickly:"
   ]
  },
  {
   "cell_type": "code",
   "execution_count": 6,
   "metadata": {},
   "outputs": [],
   "source": [
    "save_edges_path = '../data/fan/fan_weighted_edges.pkl'\n",
    "with open(save_edges_path, 'wb+') as f:\n",
    "    pickle.dump(fan_edges, f)"
   ]
  },
  {
   "cell_type": "markdown",
   "metadata": {},
   "source": [
    "Create a dictionary of edges (`cue:` `[all targets]`):"
   ]
  },
  {
   "cell_type": "code",
   "execution_count": 7,
   "metadata": {},
   "outputs": [],
   "source": [
    "fan_edges_dict = {}\n",
    "\n",
    "for w1, w2 in fan_edges:    \n",
    "    if w1 not in fan_edges_dict:\n",
    "        fan_edges_dict[w1] = []\n",
    "    fan_edges_dict[w1].append(w2)\n",
    "del w1, w2\n",
    "\n",
    "fan_dict_k = {k: len(v) for k, v in fan_edges_dict.items()}"
   ]
  },
  {
   "cell_type": "markdown",
   "metadata": {},
   "source": [
    "Count how many associations are reciprocal, that is, for a pair of words (a, b) lookup whether (b, a) exists"
   ]
  },
  {
   "cell_type": "code",
   "execution_count": 8,
   "metadata": {},
   "outputs": [],
   "source": [
    "count = 0\n",
    "for word, associations in fan_edges_dict.items():\n",
    "    for assoc in associations:\n",
    "        if word in fan_edges_dict[assoc]:\n",
    "            count += 1\n",
    "del assoc, word, associations            "
   ]
  },
  {
   "cell_type": "markdown",
   "metadata": {},
   "source": [
    "Percentage of nonreciprocal associations: "
   ]
  },
  {
   "cell_type": "code",
   "execution_count": 9,
   "metadata": {},
   "outputs": [],
   "source": [
    "100*count/len(fan_edges)  # wrap print around to get the number\n",
    "del count"
   ]
  }
 ],
 "metadata": {
  "kernelspec": {
   "display_name": "Python 3",
   "language": "python",
   "name": "python3"
  },
  "language_info": {
   "codemirror_mode": {
    "name": "ipython",
    "version": 3
   },
   "file_extension": ".py",
   "mimetype": "text/x-python",
   "name": "python",
   "nbconvert_exporter": "python",
   "pygments_lexer": "ipython3",
   "version": "3.6.3"
  }
 },
 "nbformat": 4,
 "nbformat_minor": 2
}
