{
 "cells": [
  {
   "cell_type": "markdown",
   "metadata": {},
   "source": [
    "### Load association network"
   ]
  },
  {
   "cell_type": "code",
   "execution_count": 1,
   "metadata": {},
   "outputs": [],
   "source": [
    "%run 'get-graph-norms.ipynb'"
   ]
  },
  {
   "cell_type": "code",
   "execution_count": 2,
   "metadata": {},
   "outputs": [],
   "source": [
    "%run 'methods-dir-graphs.ipynb'"
   ]
  },
  {
   "cell_type": "code",
   "execution_count": 3,
   "metadata": {},
   "outputs": [],
   "source": [
    "import pickle\n",
    "import powerlaw\n",
    "import networkx as nx\n",
    "import os\n",
    "import matplotlib.pyplot as plt\n",
    "\n",
    "from scipy import sparse\n",
    "from gensim.models.keyedvectors import KeyedVectors\n",
    "from gensim.scripts.glove2word2vec import glove2word2vec"
   ]
  },
  {
   "cell_type": "code",
   "execution_count": 4,
   "metadata": {},
   "outputs": [],
   "source": [
    "path_glove = os.path.join(os.pardir, 'data', 'glove')\n",
    "path_glove_raw = os.path.join(os.pardir, 'data', 'glove', 'glove.840B.300d.txt')\n",
    "path_glove_proc = os.path.join(os.pardir, 'data', 'glove', 'gensim_glove_vectors.txt')"
   ]
  },
  {
   "cell_type": "code",
   "execution_count": 5,
   "metadata": {},
   "outputs": [
    {
     "data": {
      "text/plain": [
       "(395975, 300)"
      ]
     },
     "execution_count": 5,
     "metadata": {},
     "output_type": "execute_result"
    }
   ],
   "source": [
    "glove2word2vec(glove_input_file=path_glove_raw, word2vec_output_file=path_glove_proc)"
   ]
  },
  {
   "cell_type": "code",
   "execution_count": 6,
   "metadata": {},
   "outputs": [],
   "source": [
    "glove = KeyedVectors.load_word2vec_format(path_glove_proc, binary=False, limit=395974)\n",
    "glove.init_sims()"
   ]
  },
  {
   "cell_type": "code",
   "execution_count": 7,
   "metadata": {},
   "outputs": [
    {
     "name": "stdout",
     "output_type": "stream",
     "text": [
      "4988\n"
     ]
    }
   ],
   "source": [
    "vocab = list(set(fan_vocab) & set(glove.vocab.keys()))\n",
    "print(len(vocab))"
   ]
  },
  {
   "cell_type": "markdown",
   "metadata": {},
   "source": [
    "Create similarity matrices for both kind of similarity measures:"
   ]
  },
  {
   "cell_type": "code",
   "execution_count": 8,
   "metadata": {},
   "outputs": [],
   "source": [
    "mat_inner = get_similarity_matrix(vocab, 'dot', glove)"
   ]
  },
  {
   "cell_type": "code",
   "execution_count": 9,
   "metadata": {},
   "outputs": [],
   "source": [
    "mat_cosine = get_similarity_matrix(vocab, 'cos', glove)"
   ]
  },
  {
   "cell_type": "markdown",
   "metadata": {},
   "source": [
    "## Directed graphs"
   ]
  },
  {
   "cell_type": "markdown",
   "metadata": {},
   "source": [
    "### K-nn "
   ]
  },
  {
   "cell_type": "code",
   "execution_count": 10,
   "metadata": {},
   "outputs": [],
   "source": [
    "dir_edges_knn_dot = get_knn_edges(mat_inner, vocab, fan_dict_k)\n",
    "dir_edges_knn_cos = get_knn_edges(mat_cosine, vocab, fan_dict_k)\n",
    "\n",
    "with open(os.path.join(path_glove, 'glove_fan_directed-knn-dot_edgeset.pkl'), 'wb+') as f:\n",
    "    pickle.dump(dir_edges_knn_dot, f)\n",
    "    \n",
    "with open(os.path.join(path_glove, 'glove_fan_directed-knn-cos_edgeset.pkl'), 'wb+') as f:\n",
    "    pickle.dump(dir_edges_knn_cos, f)"
   ]
  },
  {
   "cell_type": "markdown",
   "metadata": {},
   "source": [
    "### cs-method "
   ]
  },
  {
   "cell_type": "code",
   "execution_count": 11,
   "metadata": {},
   "outputs": [
    {
     "name": "stdout",
     "output_type": "stream",
     "text": [
      "excedrin -1563.6736028529704\n",
      "britannica -3404.253553329094\n",
      "Average degree: 12.478548516439455\n"
     ]
    }
   ],
   "source": [
    "dir_edges_cs_dot = get_cs_edges(mat_inner, vocab, 0.9)"
   ]
  },
  {
   "cell_type": "code",
   "execution_count": 12,
   "metadata": {},
   "outputs": [
    {
     "name": "stdout",
     "output_type": "stream",
     "text": [
      "excedrin -39.782184662879445\n",
      "britannica -83.74106586963444\n",
      "Average degree: 12.677024859663192\n"
     ]
    }
   ],
   "source": [
    "dir_edges_cs_cos = get_cs_edges(mat_cosine, vocab, 38)"
   ]
  },
  {
   "cell_type": "code",
   "execution_count": 13,
   "metadata": {},
   "outputs": [],
   "source": [
    "with open(os.path.join(path_glove, 'glove_fan_directed-cs-dot_edgeset.pkl'), 'wb+') as f:\n",
    "    pickle.dump(dir_edges_cs_dot, f)\n",
    "    \n",
    "with open(os.path.join(path_glove, 'glove_fan_directed-cs-cos_edgeset.pkl'), 'wb+') as f:\n",
    "    pickle.dump(dir_edges_cs_cos, f)"
   ]
  },
  {
   "cell_type": "markdown",
   "metadata": {},
   "source": [
    "## Undirected graph"
   ]
  },
  {
   "cell_type": "markdown",
   "metadata": {},
   "source": [
    "These ranges have been explored manually:"
   ]
  },
  {
   "cell_type": "code",
   "execution_count": 14,
   "metadata": {},
   "outputs": [
    {
     "name": "stdout",
     "output_type": "stream",
     "text": [
      "cos\n",
      "tau: 0.52, m: 59139, k: 25.18\n",
      "tau: 0.53, m: 51244, k: 22.13\n",
      "tau: 0.54, m: 44549, k: 19.59\n",
      "dot\n",
      "tau: 22.60, m: 47726, k: 22.42\n",
      "tau: 22.70, m: 46534, k: 22.01\n",
      "tau: 22.80, m: 45330, k: 21.54\n"
     ]
    }
   ],
   "source": [
    "undirected_settings = [\n",
    "    (np.arange(0.52, 0.54, .01), mat_cosine, 'cos'),\n",
    "    (np.arange(22.6, 22.9, .1), mat_inner, 'dot')]\n",
    "\n",
    "for th, mat, method in undirected_settings:\n",
    "    print(method)\n",
    "    for t in th:\n",
    "        edges = []\n",
    "        x, y = np.where(mat>=t)\n",
    "        for w1, w2 in zip(x, y):\n",
    "            edge = (vocab[w1], vocab[w2], mat[w1,w2])\n",
    "            edges.append(edge)\n",
    "\n",
    "        g_un = nx.Graph()\n",
    "        g_un.add_weighted_edges_from(edges)\n",
    "\n",
    "        str_print = \"tau: {:.2f}, m: {}, k: {:.2f}\".format(\n",
    "            t, len(edges), 2*nx.number_of_edges(g_un)/nx.number_of_nodes(g_un))\n",
    "        print(str_print)\n",
    "\n",
    "        tau = '%.2f'%t\n",
    "        save_path = 'glove_fan_%.2f_%s_edgeset.pkl'%(t, method)\n",
    "\n",
    "        with open(os.path.join(path_glove, save_path), 'wb+') as f:\n",
    "            pickle.dump(edges, f) "
   ]
  }
 ],
 "metadata": {
  "kernelspec": {
   "display_name": "Python 3",
   "language": "python",
   "name": "python3"
  },
  "language_info": {
   "codemirror_mode": {
    "name": "ipython",
    "version": 3
   },
   "file_extension": ".py",
   "mimetype": "text/x-python",
   "name": "python",
   "nbconvert_exporter": "python",
   "pygments_lexer": "ipython3",
   "version": "3.6.3"
  }
 },
 "nbformat": 4,
 "nbformat_minor": 2
}
