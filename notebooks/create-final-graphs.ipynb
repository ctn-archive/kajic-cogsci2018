{
 "cells": [
  {
   "cell_type": "code",
   "execution_count": 1,
   "metadata": {},
   "outputs": [],
   "source": [
    "import networkx as nx\n",
    "import numpy as np\n",
    "import pickle\n",
    "import numpy as np"
   ]
  },
  {
   "cell_type": "markdown",
   "metadata": {},
   "source": [
    "### Load USF Norms"
   ]
  },
  {
   "cell_type": "code",
   "execution_count": 3,
   "metadata": {},
   "outputs": [],
   "source": [
    "with open('../data/fan/fan_weighted_edges.pkl', 'rb+') as f:\n",
    "    fan_edges = pickle.load(f)"
   ]
  },
  {
   "cell_type": "code",
   "execution_count": 4,
   "metadata": {},
   "outputs": [],
   "source": [
    "def strip(edges):\n",
    "    if len(edges[0])==2:\n",
    "        return edges\n",
    "    else:\n",
    "        return [(x, y) for x, y, _ in edges]"
   ]
  },
  {
   "cell_type": "markdown",
   "metadata": {},
   "source": [
    "The resulting graphs will be stored in a dictionary `graphs` and the corresponding degree distributions in a dictionary `degrees`:"
   ]
  },
  {
   "cell_type": "code",
   "execution_count": 5,
   "metadata": {},
   "outputs": [],
   "source": [
    "graphs = {}\n",
    "degrees = {}"
   ]
  },
  {
   "cell_type": "code",
   "execution_count": 6,
   "metadata": {},
   "outputs": [],
   "source": [
    "graphs['USF_directed'] = nx.DiGraph(fan_edges)\n",
    "graphs['USF_undirected'] = nx.Graph(fan_edges)"
   ]
  },
  {
   "cell_type": "code",
   "execution_count": 7,
   "metadata": {},
   "outputs": [],
   "source": [
    "degrees['USF_directed'] = np.array(list(dict(graphs['USF_directed'].in_degree()).values()))\n",
    "degrees['USF_undirected'] =  np.array(list(dict(graphs['USF_undirected'].degree()).values()))"
   ]
  },
  {
   "cell_type": "markdown",
   "metadata": {},
   "source": [
    "### Load Glove & w2v data on the disk \n",
    "\n",
    "This stuff is produced by get-graph-* notebooks:"
   ]
  },
  {
   "cell_type": "code",
   "execution_count": 8,
   "metadata": {},
   "outputs": [],
   "source": [
    "graph_diskdata = [\n",
    "    # glove\n",
    "    ('../data/glove/', [\n",
    "    'glove_fan_0.53_cos_edgeset.pkl',\n",
    "    'glove_fan_22.70_dot_edgeset.pkl',\n",
    "    'glove_fan_directed-cs-dot_edgeset.pkl',\n",
    "    'glove_fan_directed-cs-cos_edgeset.pkl',\n",
    "    'glove_fan_directed-knn-dot_edgeset.pkl',\n",
    "    'glove_fan_directed-knn-cos_edgeset.pkl'],\n",
    "    ['glove-cos', 'glove-dot', 'glove-cs-dot',\n",
    "    'glove-cs-cos', 'glove-knn-dot', 'glove-knn-cos']),\n",
    "    # word2vec\n",
    "    ('../data/word2vec/', [\n",
    "    'w2v_fan_0.38_cos_edgeset.pkl',\n",
    "    'w2v_fan_4.20_dot_edgeset.pkl',\n",
    "    'w2v_fan_directed-cs-cos_edgeset.pkl',\n",
    "    'w2v_fan_directed-cs-dot_edgeset.pkl',\n",
    "    'w2v_fan_directed-knn-cos_edgeset.pkl',\n",
    "    'w2v_fan_directed-knn-dot_edgeset.pkl'],\n",
    "     ['word2vec-cos', 'word2vec-dot', 'w2v-cs-cos', \n",
    "      'w2v-cs-dot', 'w2v-knn-cos', 'w2v-knn-dot']\n",
    "    )\n",
    "]"
   ]
  },
  {
   "cell_type": "code",
   "execution_count": 9,
   "metadata": {},
   "outputs": [],
   "source": [
    "for path, file_names, labels in graph_diskdata:\n",
    "    for label, filename in zip(labels, file_names):\n",
    "        with open(path + filename, 'rb+') as f:\n",
    "            edges = pickle.load(f)\n",
    "\n",
    "        if 'directed' in filename:\n",
    "            m_graph, attr = nx.DiGraph, 'in_degree'\n",
    "        else:\n",
    "            m_graph, attr = nx.Graph, 'degree'\n",
    "\n",
    "        graphs[label] = m_graph(strip(edges))\n",
    "        degs = getattr(graphs[label], attr)\n",
    "        degrees[label] = np.array(list(dict(degs).values()))"
   ]
  }
 ],
 "metadata": {
  "kernelspec": {
   "display_name": "Python 3",
   "language": "python",
   "name": "python3"
  },
  "language_info": {
   "codemirror_mode": {
    "name": "ipython",
    "version": 3
   },
   "file_extension": ".py",
   "mimetype": "text/x-python",
   "name": "python",
   "nbconvert_exporter": "python",
   "pygments_lexer": "ipython3",
   "version": "3.6.3"
  }
 },
 "nbformat": 4,
 "nbformat_minor": 2
}
